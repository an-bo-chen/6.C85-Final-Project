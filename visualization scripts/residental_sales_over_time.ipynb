{
 "cells": [
  {
   "cell_type": "code",
   "execution_count": 5,
   "metadata": {},
   "outputs": [],
   "source": [
    "import urllib.request\n",
    "import matplotlib.pyplot as plt\n",
    "import os\n",
    "import pandas as pd\n",
    "import zipfile"
   ]
  },
  {
   "cell_type": "code",
   "execution_count": 13,
   "metadata": {},
   "outputs": [],
   "source": [
    "# move to working directory\n",
    "#working_dir = \"/Users/evan/MIT/c85/FP1\"\n",
    "working_dir = \"/Users/evan/MIT/c85/FP1/school datasets/Residential sales transactions in City of Boston 2000-2023\"\n",
    "os.chdir(working_dir)"
   ]
  },
  {
   "cell_type": "code",
   "execution_count": 14,
   "metadata": {},
   "outputs": [
    {
     "data": {
      "text/plain": [
       "Index(['address', 'street', 'city', 'zip', 'proptype', 'date', 'year', 'price',\n",
       "       'prsldate', 'prslpr', 'mortgage', 'usecode', 'usage', 'style',\n",
       "       'yearbuilt', 'totrooms', 'bathrooms', 'bedrooms', 'lotsize', 'intersf',\n",
       "       'lasqbin', 'amenity', 'lat', 'lon', 'cash_sale', 'buyer_llc_ind',\n",
       "       'buyer_llp_ind', 'buyer_bus_ind', 'buyer_trst_ind', 'buyer_bnk_ind',\n",
       "       'buyer_gse_ind', 'buyer_gov_ind', 'seller_llc_ind', 'seller_llp_ind',\n",
       "       'seller_bus_ind', 'seller_trst_ind', 'seller_bnk_ind', 'seller_gse_ind',\n",
       "       'seller_gov_ind', 'flip_horizon', 'flip_ind', 'buy_side_flip',\n",
       "       'sell_side_flip', 'price_diff', 'price_diff_pch', 'month_horizon',\n",
       "       'flip_term', 'buy_horizon', 'investor_type_purchase_count',\n",
       "       'investor_type_sale_count', 'investor_type_purchase_llc',\n",
       "       'investor_type_sale_llc', 'investor_type_purchase_building',\n",
       "       'investor_type_sale_building', 'avg_annual_value',\n",
       "       'investor_type_purchase_value', 'investor_type_sale_value',\n",
       "       'current_owner', 'restype_R1F', 'tot_owned', 'buyer_purchases',\n",
       "       'R1F_total', 'investor_type_purchase', 'investor_type_sale',\n",
       "       'inv_to_inv', 'ct10_id', 'ct20_id'],\n",
       "      dtype='object')"
      ]
     },
     "execution_count": 14,
     "metadata": {},
     "output_type": "execute_result"
    }
   ],
   "source": [
    "filelist = os.listdir()\n",
    "#print(filelist)\n",
    "data_file = 'boston_residential_sales.csv'\n",
    "df = pd.read_csv(data_file)\n",
    "#filelist[0]\n",
    "df.columns\n"
   ]
  },
  {
   "cell_type": "code",
   "execution_count": null,
   "metadata": {},
   "outputs": [
    {
     "name": "stdout",
     "output_type": "stream",
     "text": [
      "Extracted 'AHS%202023%20National%20PUF%20v1.1%20CSV.zip' to 'AHS%202023%20National%20PUF%20v1.1%20CSV'.\n"
     ]
    }
   ],
   "source": []
  },
  {
   "cell_type": "code",
   "execution_count": null,
   "metadata": {},
   "outputs": [
    {
     "name": "stdout",
     "output_type": "stream",
     "text": [
      "['household.csv', 'project.csv', 'mortgage.csv', 'person.csv']\n"
     ]
    }
   ],
   "source": []
  },
  {
   "cell_type": "code",
   "execution_count": null,
   "metadata": {},
   "outputs": [],
   "source": []
  },
  {
   "cell_type": "code",
   "execution_count": 12,
   "metadata": {},
   "outputs": [
    {
     "data": {
      "text/plain": [
       "Index(['nsmoid', 'survey_wave', 'analysis_weight', 'x05a', 'x05b', 'x05c',\n",
       "       'x05d', 'x05e', 'x05f', 'x05g',\n",
       "       ...\n",
       "       'mtmltv0621', 'mtmltv0921', 'mtmltv1221', 'mtmltv0322', 'mtmltv0622',\n",
       "       'mtmltv0922', 'mtmltv1222', 'mtmltv0323', 'mtmltv0623', 'mtmltv0923'],\n",
       "      dtype='object', length=543)"
      ]
     },
     "execution_count": 12,
     "metadata": {},
     "output_type": "execute_result"
    }
   ],
   "source": [
    "df.columns"
   ]
  },
  {
   "cell_type": "code",
   "execution_count": null,
   "metadata": {},
   "outputs": [],
   "source": []
  }
 ],
 "metadata": {
  "kernelspec": {
   "display_name": "Python 3",
   "language": "python",
   "name": "python3"
  },
  "language_info": {
   "codemirror_mode": {
    "name": "ipython",
    "version": 3
   },
   "file_extension": ".py",
   "mimetype": "text/x-python",
   "name": "python",
   "nbconvert_exporter": "python",
   "pygments_lexer": "ipython3",
   "version": "3.11.11"
  }
 },
 "nbformat": 4,
 "nbformat_minor": 2
}
